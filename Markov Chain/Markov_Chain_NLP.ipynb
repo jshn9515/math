{
 "cells": [
  {
   "cell_type": "markdown",
   "id": "278a4942-abf1-47e1-8fd5-96c74756e969",
   "metadata": {},
   "source": [
    "## Markov Chain NLP\n",
    "\n",
    "Watch video: [YouTube](https://youtu.be/E4WcBWuQQws?list=PLM8wYQRetTxBkdvBtz-gw8b9lcVkdXQKV)\n",
    "\n",
    "The original code forks from [here](https://www.kaggle.com/code/orion99/markov-chain-nlp)."
   ]
  },
  {
   "cell_type": "markdown",
   "id": "194fe67d-f3ce-42af-a865-2ba7257880d5",
   "metadata": {},
   "source": [
    "### Importing tools"
   ]
  },
  {
   "cell_type": "code",
   "execution_count": 49,
   "id": "e1d76f62-32bd-4b00-ba8e-985ff370cc15",
   "metadata": {},
   "outputs": [],
   "source": [
    "import glob\n",
    "import nltk\n",
    "import string\n",
    "import numpy as np"
   ]
  },
  {
   "cell_type": "markdown",
   "id": "22f4078c-0f50-4377-84be-ef2bb3161ff2",
   "metadata": {},
   "source": [
    "### Read the stories"
   ]
  },
  {
   "cell_type": "code",
   "execution_count": 14,
   "id": "78aa62f8-9d48-4c0d-99a3-0ddfdb27e4c8",
   "metadata": {},
   "outputs": [
    {
     "name": "stdout",
     "output_type": "stream",
     "text": [
      "Number of lines = 215021\n"
     ]
    }
   ],
   "source": [
    "files = glob.glob('sherlock/*.txt')\n",
    "stories = []\n",
    "for file in files:\n",
    "    with open(file, 'r') as f:\n",
    "        for line in f:\n",
    "            line = line.strip()\n",
    "            if line == '----------':\n",
    "                break\n",
    "            if line != '':\n",
    "                stories.append(line)\n",
    "print(f'Number of lines = {len(stories)}')"
   ]
  },
  {
   "cell_type": "code",
   "execution_count": 50,
   "id": "cf2ab384-97b8-4aba-b3c9-26def303a6e0",
   "metadata": {},
   "outputs": [
    {
     "name": "stdout",
     "output_type": "stream",
     "text": [
      "Number of words = 2341418\n"
     ]
    }
   ],
   "source": [
    "# may need some time to run\n",
    "cleaned_stories = []\n",
    "translator = str.maketrans('', '', string.punctuation)\n",
    "for line in stories:\n",
    "    line = line.lower()\n",
    "    line = line.translate(translator)\n",
    "    tokens = nltk.word_tokenize(line)\n",
    "    words = [word for word in tokens if word.isalpha()]\n",
    "    cleaned_stories.extend(words)\n",
    "print(f'Number of words = {len(cleaned_stories)}')"
   ]
  },
  {
   "cell_type": "markdown",
   "id": "9688cce9-47e7-4d8f-aa02-3e83dda48c60",
   "metadata": {},
   "source": [
    "### Create a Markov Chain instance"
   ]
  },
  {
   "cell_type": "code",
   "execution_count": 60,
   "id": "ccc50b50-de0c-4de0-a029-b3ee849b4ac1",
   "metadata": {},
   "outputs": [],
   "source": [
    "class MarkovChain:\n",
    "    def __init__(self, text: list, n_gram: int = 2):\n",
    "        self.n_gram = n_gram\n",
    "        self.markov_chain = {}\n",
    "        self.n_grams = list(zip(text[::2], text[1::2]))\n",
    "        for i in range(len(self.n_grams) - 1):\n",
    "            curr_state = ' '.join(self.n_grams[i])\n",
    "            next_state = ' '.join(self.n_grams[i + 1])\n",
    "            if curr_state not in self.markov_chain:\n",
    "                self.markov_chain[curr_state] = {}\n",
    "                self.markov_chain[curr_state][next_state] = 1\n",
    "            else:\n",
    "                if next_state in self.markov_chain[curr_state]:\n",
    "                    self.markov_chain[curr_state][next_state] += 1\n",
    "                else:\n",
    "                    self.markov_chain[curr_state][next_state] = 1\n",
    "        # calculating transition probabilities\n",
    "        for curr_state, transition in self.markov_chain.items():\n",
    "            total = sum(transition.values())\n",
    "            for next_state, count in transition.items():\n",
    "                self.markov_chain[curr_state][next_state] = count / total\n",
    "\n",
    "    def generate_story(self, start: str, limit: int = 30):\n",
    "        n = 0\n",
    "        curr_state = start\n",
    "        story = curr_state + ' '\n",
    "        while n < limit:\n",
    "            next_state = np.random.choice(list(self.markov_chain[curr_state].keys()),\n",
    "                                          p=list(self.markov_chain[curr_state].values()))\n",
    "            curr_state = next_state\n",
    "            story = story + curr_state + ' '\n",
    "            n += 1\n",
    "        return story"
   ]
  },
  {
   "cell_type": "code",
   "execution_count": 61,
   "id": "2fd4be99-a39f-4f0c-a7fd-f49f14edcccf",
   "metadata": {},
   "outputs": [
    {
     "name": "stdout",
     "output_type": "stream",
     "text": [
      "Number of states = 215418\n"
     ]
    }
   ],
   "source": [
    "Mdl = MarkovChain(cleaned_stories)\n",
    "print(f'Number of states = {len(Mdl.markov_chain.keys())}')"
   ]
  },
  {
   "cell_type": "code",
   "execution_count": 62,
   "id": "5ec779c3-3c79-466e-99af-f14d68b5b5cb",
   "metadata": {},
   "outputs": [
    {
     "name": "stdout",
     "output_type": "stream",
     "text": [
      "All possible transitions from 'the game' state are:\n"
     ]
    },
    {
     "data": {
      "text/plain": [
       "{'your letter': 0.03389830508474576,\n",
       " 'for the': 0.05084745762711865,\n",
       " 'is up': 0.05084745762711865,\n",
       " 'was whist': 0.03389830508474576,\n",
       " 'was up': 0.0847457627118644,\n",
       " 'in that': 0.05084745762711865,\n",
       " 'the lack': 0.05084745762711865,\n",
       " 'may wander': 0.03389830508474576,\n",
       " 'now a': 0.03389830508474576,\n",
       " 'mr holmeswhats': 0.03389830508474576,\n",
       " 'ay whats': 0.03389830508474576,\n",
       " 'my friend': 0.03389830508474576,\n",
       " 'fairly by': 0.03389830508474576,\n",
       " 'is not': 0.03389830508474576,\n",
       " 'was afoot': 0.03389830508474576,\n",
       " 'worth it': 0.01694915254237288,\n",
       " 'you are': 0.01694915254237288,\n",
       " 'now count': 0.03389830508474576,\n",
       " 'i am': 0.01694915254237288,\n",
       " 'for all': 0.03389830508474576,\n",
       " 'was in': 0.03389830508474576,\n",
       " 'is hardly': 0.03389830508474576,\n",
       " 'would have': 0.03389830508474576,\n",
       " 'is and': 0.05084745762711865,\n",
       " 'in their': 0.03389830508474576,\n",
       " 'is afoot': 0.01694915254237288,\n",
       " 'my own': 0.01694915254237288,\n",
       " 'at any': 0.01694915254237288,\n",
       " 'was not': 0.01694915254237288}"
      ]
     },
     "execution_count": 62,
     "metadata": {},
     "output_type": "execute_result"
    }
   ],
   "source": [
    "print('All possible transitions from \\'the game\\' state are:')\n",
    "Mdl.markov_chain['the game']"
   ]
  },
  {
   "cell_type": "markdown",
   "id": "a3d044df-d118-47be-b71e-f31ba1446f61",
   "metadata": {},
   "source": [
    "### Generating Sherlock Holmes stories"
   ]
  },
  {
   "cell_type": "code",
   "execution_count": 67,
   "id": "4b42a333-244a-4953-919b-bc3c93d92a8f",
   "metadata": {},
   "outputs": [
    {
     "name": "stdout",
     "output_type": "stream",
     "text": [
      "1. dear holmes it is very customary for pawnbrokers in england mr holmes and he left a trap into which he \n",
      "2. dear holmes he has a salary of a striking and bizarre without being criminal we have a cousin of his \n",
      "3. dear holmes am i to do their own persons but those whom they feared or hated by injuring not only \n",
      "4. dear holmes i ejaculated no no i aint afeared of anything on this side path he was still vague but \n",
      "5. dear holmes i ejaculated well really it seems rather useless since you are both sound sleepers hunter was sunk in \n"
     ]
    }
   ],
   "source": [
    "for i in range(5):\n",
    "    result = Mdl.generate_story('dear holmes', limit=9)\n",
    "    print(f'{str(i + 1)}. {result}')"
   ]
  },
  {
   "cell_type": "code",
   "execution_count": 68,
   "id": "d9c009f9-869f-4cdd-b056-2a0408d18e69",
   "metadata": {},
   "outputs": [
    {
     "name": "stdout",
     "output_type": "stream",
     "text": [
      "1. i would bring him into the massive masonry hum said holmes sinking back in his chair in the house you \n",
      "2. i would spend my last copper to shield him and have no hint to give me the shelter of your \n",
      "3. i would have told you nothing but the laws were more harshly administered thirty years ago his luggage was to \n",
      "4. i would do justice upon him this i expect very shortly to my wife as an amateur that i could \n",
      "5. i would have you never heard of the sort have already been out i shut the door and forming the \n"
     ]
    }
   ],
   "source": [
    "for i in range(5):\n",
    "    result = Mdl.generate_story('i would', limit=9)\n",
    "    print(f'{str(i + 1)}. {result}')"
   ]
  },
  {
   "cell_type": "code",
   "execution_count": 90,
   "id": "8dc7680d-4d10-425e-a3eb-9441edf28463",
   "metadata": {},
   "outputs": [
    {
     "name": "stdout",
     "output_type": "stream",
     "text": [
      "the case is the very word said holmes who was far greater than i knew since no practical use whatever we had an example i may mention the son of one of his characteristics that his life is despaired of dear dear son now that approaching disgrace begins to darken my door and peeped through the open window endeavoured in every way it corresponded with the dog on my mentioning the detectives of fact the drawn look upon this as a hypothesis and noted that e was represented by picture picture of a regal and stately lady in the case even the masterful millionaire had found my occasional retreat still less that you were all at the devil do you mean holmes had sprung to his household and the effect it was a clumsy fabrication which simply could not be delayed mr sherlock holmes and myself yes the horse and clad in some darkcoloured stuff with a black gap like the mouth of this treaty becoming known a severe attack make a case against him was one tin box so you can leave me in the opposite direction but they are armed said i on the third day we had learned of\n"
     ]
    }
   ],
   "source": [
    "result = Mdl.generate_story('the case', limit=100)\n",
    "print(result.strip())"
   ]
  }
 ],
 "metadata": {
  "kernelspec": {
   "display_name": "Python 3 (ipykernel)",
   "language": "python",
   "name": "python3"
  },
  "language_info": {
   "codemirror_mode": {
    "name": "ipython",
    "version": 3
   },
   "file_extension": ".py",
   "mimetype": "text/x-python",
   "name": "python",
   "nbconvert_exporter": "python",
   "pygments_lexer": "ipython3",
   "version": "3.11.8"
  }
 },
 "nbformat": 4,
 "nbformat_minor": 5
}
