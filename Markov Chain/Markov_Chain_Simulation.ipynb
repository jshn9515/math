{
 "cells": [
  {
   "cell_type": "markdown",
   "id": "dd0745e1-7143-49cc-b091-ed5697e6d844",
   "metadata": {},
   "source": [
    "## Markov Chain Simulation\n",
    "\n",
    "This notebook calculates the stationary distribution of markov chain.\n",
    "\n",
    "Watch video: [YouTube](https://youtu.be/i3AkTO9HLXo?list=PLM8wYQRetTxBkdvBtz-gw8b9lcVkdXQKV)"
   ]
  },
  {
   "cell_type": "markdown",
   "id": "eb496b0e-5b47-4b81-94d3-b302ef53a0f9",
   "metadata": {},
   "source": [
    "### A Delicious Markov Chain\n",
    "<div align=\"center\">\n",
    "    <img src=\"chain.png\" width=\"500px\" height=\"300px\">\n",
    "</div>"
   ]
  },
  {
   "cell_type": "code",
   "execution_count": 3,
   "id": "2b025e3b-bdcd-4462-a400-1f6a5a07ef77",
   "metadata": {
    "editable": true,
    "slideshow": {
     "slide_type": ""
    },
    "tags": []
   },
   "outputs": [],
   "source": [
    "# Burger: 0, Pizza: 1, Hotdog: 2\n",
    "state = {\n",
    "    0: 'Burger',\n",
    "    1: 'Pizza',\n",
    "    2: 'Hotdog'\n",
    "}"
   ]
  },
  {
   "cell_type": "markdown",
   "id": "e0902b90-2246-4608-a01e-dfab2ce3df2c",
   "metadata": {},
   "source": [
    "### Transition Matrix\n",
    "$$A=\\begin{bmatrix}\n",
    "{0.2}&{0.6}&{0.2}\\\\\n",
    "{0.3}&{0}&{0.7}\\\\\n",
    "{0.5}&{0}&{0.5}\\\\\n",
    "\\end{bmatrix}$$\n",
    "$$A_{ij}=P(X_n=j|X_{n-1}=i)$$"
   ]
  },
  {
   "cell_type": "code",
   "execution_count": 2,
   "id": "01a93e7d-6144-45e1-8446-1e8a9a780547",
   "metadata": {},
   "outputs": [],
   "source": [
    "import numpy as np"
   ]
  },
  {
   "cell_type": "code",
   "execution_count": 3,
   "id": "0543857b-7e46-42a2-846f-8c47a831f04f",
   "metadata": {},
   "outputs": [
    {
     "name": "stdout",
     "output_type": "stream",
     "text": [
      "[[0.2 0.6 0.2]\n",
      " [0.3 0.  0.7]\n",
      " [0.5 0.  0.5]]\n"
     ]
    }
   ],
   "source": [
    "A = np.array([[0.2, 0.6, 0.2], [0.3, 0.0, 0.7], [0.5, 0.0, 0.5]])\n",
    "print(A)"
   ]
  },
  {
   "cell_type": "markdown",
   "id": "0a947421-ffa5-4969-8029-57e5a4caeb5b",
   "metadata": {},
   "source": [
    "Bacially, a stationary distribution satisfies the following matrix equation\n",
    "$$\\pi A=\\pi$$\n",
    "If a markov chain is not stationary, the limiting state probability doesn't exist."
   ]
  },
  {
   "cell_type": "markdown",
   "id": "63c07938-ea22-424b-91bb-b3b8079a06df",
   "metadata": {},
   "source": [
    "### Random Walk on Markov Chain"
   ]
  },
  {
   "cell_type": "code",
   "execution_count": 13,
   "id": "bf0b951f-d620-4acb-b4c6-244432018471",
   "metadata": {},
   "outputs": [
    {
     "name": "stdout",
     "output_type": "stream",
     "text": [
      "Burger -> Pizza -> Hotdog -> Hotdog -> Hotdog -> Hotdog -> Burger -> Pizza -> Hotdog -> Hotdog -> stop\n"
     ]
    }
   ],
   "source": [
    "n = 10\n",
    "start_state = 0\n",
    "current_state = start_state\n",
    "print(state[current_state], '->', end=' ')\n",
    "\n",
    "while n - 1:\n",
    "    current_state = np.random.choice([0, 1, 2], p=A[current_state])\n",
    "    print(state[current_state], '->', end=' ')\n",
    "    n -= 1\n",
    "print('stop')"
   ]
  },
  {
   "cell_type": "markdown",
   "id": "9c2904db-2576-4acc-b8eb-2d48005c1c99",
   "metadata": {},
   "source": [
    "### Approach 1: Monte Carlo"
   ]
  },
  {
   "cell_type": "code",
   "execution_count": 22,
   "id": "6763b10e-8b08-4d7b-bd63-9c1dad94f961",
   "metadata": {},
   "outputs": [
    {
     "name": "stdout",
     "output_type": "stream",
     "text": [
      "π = [0.3492 0.2131 0.4378]\n"
     ]
    }
   ],
   "source": [
    "steps = 1e4\n",
    "start_state = 0\n",
    "current_state = start_state\n",
    "pi = np.array([0, 0, 0])\n",
    "pi[start_state] = 1\n",
    "i = 0\n",
    "while i < steps:\n",
    "    current_state = np.random.choice([0, 1, 2], p=A[current_state])\n",
    "    pi[current_state] += 1\n",
    "    i += 1\n",
    "print(f'\\u03C0 = {pi / steps}')"
   ]
  },
  {
   "cell_type": "markdown",
   "id": "57d114df-5897-47f2-9e9e-312b36861ecc",
   "metadata": {},
   "source": [
    "### Approach 2: Repeated Matrix Multiplication"
   ]
  },
  {
   "cell_type": "code",
   "execution_count": 29,
   "id": "a5becd92-2e77-40c5-a5df-16ceffc10839",
   "metadata": {},
   "outputs": [
    {
     "name": "stdout",
     "output_type": "stream",
     "text": [
      "π = [0.35211268 0.21126761 0.43661972]\n"
     ]
    }
   ],
   "source": [
    "steps = 1e4\n",
    "An = A\n",
    "i = 0\n",
    "while i < steps:\n",
    "    An = np.matmul(An, A)\n",
    "    i += 1\n",
    "print(f'\\u03C0 = {An[0]}')"
   ]
  },
  {
   "cell_type": "markdown",
   "id": "64f53327-4a99-46bb-8746-bc894ff1e324",
   "metadata": {},
   "source": [
    "### Approach 3: Finding Left Eigen Vectors\n",
    "In order to solve the equation $\\pi A=\\pi$, a method called `scipy.linalg.eig` should be used."
   ]
  },
  {
   "cell_type": "markdown",
   "id": "4f7955b3-6d9a-4534-baca-06232c180557",
   "metadata": {},
   "source": [
    "The eigenvalue problem is to determine the solution to the equation $Av = \\lambda v$, where $A$ is an n-by-n matrix, $v$ is a column vector of length $n$, and $\\lambda$ is a scalar. The values of $\\lambda$ that satisfy the equation are the eigenvalues. The corresponding values of $v$ that satisfy the equation are the right eigenvectors. The left eigenvectors, $w$, satisfy the equation $w^TA = \\lambda w^T$. In this problem, the eigenvector corresponding to $\\lambda=1$ is the limiting state probability."
   ]
  },
  {
   "cell_type": "code",
   "execution_count": 23,
   "id": "1b483db8-9460-4e93-824b-6a6ea0e34f26",
   "metadata": {},
   "outputs": [],
   "source": [
    "import scipy.linalg\n",
    "D, W = scipy.linalg.eig(A, left=True, right=False)\n",
    "idx = np.squeeze(np.argwhere(np.isclose(np.real(D), 1)))"
   ]
  },
  {
   "cell_type": "code",
   "execution_count": 24,
   "id": "1a89478e-fa66-4edd-877f-c6bcb1e876ae",
   "metadata": {},
   "outputs": [
    {
     "name": "stdout",
     "output_type": "stream",
     "text": [
      "[ 1.  +0.j        -0.15+0.3122499j -0.15-0.3122499j]\n"
     ]
    }
   ],
   "source": [
    "print(D)"
   ]
  },
  {
   "cell_type": "code",
   "execution_count": 25,
   "id": "55d56534-dcc2-4971-b8b3-399cdb2f7fef",
   "metadata": {},
   "outputs": [
    {
     "name": "stdout",
     "output_type": "stream",
     "text": [
      "[[-0.58746336+0.j         -0.16984156-0.35355339j -0.16984156+0.35355339j]\n",
      " [-0.35247801+0.j          0.67936622+0.j          0.67936622-0.j        ]\n",
      " [-0.72845456+0.j         -0.50952467+0.35355339j -0.50952467-0.35355339j]]\n"
     ]
    }
   ],
   "source": [
    "print(W)"
   ]
  },
  {
   "cell_type": "code",
   "execution_count": 31,
   "id": "35322750-e85b-4a02-b1c1-66bdc2de6e06",
   "metadata": {},
   "outputs": [
    {
     "name": "stdout",
     "output_type": "stream",
     "text": [
      "[0.35211268 0.21126761 0.43661972]\n"
     ]
    }
   ],
   "source": [
    "# find the eigenvectors where D = 1\n",
    "pi = W[:, idx]\n",
    "pi_normalized = np.real(pi / np.sum(pi))\n",
    "print(pi_normalized)"
   ]
  }
 ],
 "metadata": {
  "kernelspec": {
   "display_name": "Python 3 (ipykernel)",
   "language": "python",
   "name": "python3"
  },
  "language_info": {
   "codemirror_mode": {
    "name": "ipython",
    "version": 3
   },
   "file_extension": ".py",
   "mimetype": "text/x-python",
   "name": "python",
   "nbconvert_exporter": "python",
   "pygments_lexer": "ipython3",
   "version": "3.11.8"
  }
 },
 "nbformat": 4,
 "nbformat_minor": 5
}
